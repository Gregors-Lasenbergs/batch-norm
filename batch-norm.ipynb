{
 "cells": [
  {
   "cell_type": "code",
   "execution_count": null,
   "id": "87a01ec2-a281-4b52-9551-17915b5d7b1f",
   "metadata": {},
   "outputs": [],
   "source": []
  }
 ],
 "metadata": {
  "kernelspec": {
   "display_name": "",
   "name": ""
  },
  "language_info": {
   "name": ""
  }
 },
 "nbformat": 4,
 "nbformat_minor": 5
}
